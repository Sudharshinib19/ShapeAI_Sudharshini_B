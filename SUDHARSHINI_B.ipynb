{
  "nbformat": 4,
  "nbformat_minor": 0,
  "metadata": {
    "colab": {
      "name": "SUDHARSHINI.B.ipynb",
      "provenance": [],
      "collapsed_sections": []
    },
    "kernelspec": {
      "name": "python3",
      "display_name": "Python 3"
    },
    "language_info": {
      "name": "python"
    }
  },
  "cells": [
    {
      "cell_type": "code",
      "metadata": {
        "id": "mpn45IQ48LWg"
      },
      "source": [
        "from keras.datasets import mnist\n",
        "data=mnist.load_data()"
      ],
      "execution_count": 15,
      "outputs": []
    },
    {
      "cell_type": "code",
      "metadata": {
        "id": "HjahouvrG_fZ"
      },
      "source": [
        "((X_train,Y_train),(X_test,Y_test))=data"
      ],
      "execution_count": 17,
      "outputs": []
    },
    {
      "cell_type": "code",
      "metadata": {
        "id": "VjHF46AvHOtJ"
      },
      "source": [
        "X_train=X_train.reshape((X_train.shape[0],28*28)).astype('float32')\n",
        "X_test=X_test.reshape((X_test.shape[0],28*28)).astype('float32')"
      ],
      "execution_count": 18,
      "outputs": []
    },
    {
      "cell_type": "code",
      "metadata": {
        "id": "r7B-CBdNIlpE"
      },
      "source": [
        "X_train=X_train/255\n",
        "X_test=X_test/255"
      ],
      "execution_count": 19,
      "outputs": []
    },
    {
      "cell_type": "code",
      "metadata": {
        "id": "3IvTUrCYE2P9"
      },
      "source": [
        "from keras.utils import np_utils\n",
        "print(Y_test.shape)\n",
        "Y_train=np_utils.to_categorical(Y_train)\n",
        "Y_test=np_utils.to_categorical(Y_test)\n",
        "num_classes=Y_test.shape[1]\n",
        "print(Y_test.shape)"
      ],
      "execution_count": 11,
      "outputs": []
    },
    {
      "cell_type": "code",
      "metadata": {
        "id": "sl4g5JGoFtsY"
      },
      "source": [
        "from keras.models import Sequential\n",
        "from keras.layers import Dense"
      ],
      "execution_count": 28,
      "outputs": []
    },
    {
      "cell_type": "code",
      "metadata": {
        "id": "YtaR50KpFt0M"
      },
      "source": [
        "model = Sequential()\n",
        "model.add(Dense(32,input_dim=28*28,activation='relu'))\n",
        "model.add(Dense(64,activation='relu'))\n",
        "model.add(Dense(10,activation='softmax'))"
      ],
      "execution_count": null,
      "outputs": []
    },
    {
      "cell_type": "code",
      "metadata": {
        "id": "E5ihzmFBG07Q"
      },
      "source": [
        "model.compile(loss='categorical_crossentropy',optimizer='adam',metrics=['accuracy'])"
      ],
      "execution_count": null,
      "outputs": []
    },
    {
      "cell_type": "code",
      "metadata": {
        "id": "08wkygPX8bOf"
      },
      "source": [
        "model.summary()"
      ],
      "execution_count": null,
      "outputs": []
    },
    {
      "cell_type": "code",
      "metadata": {
        "id": "PAY-PeJCLdF5"
      },
      "source": [
        "model.fit(X_train,Y_train,validation_split=0.2,epochs=10,batch_size=100)"
      ],
      "execution_count": null,
      "outputs": []
    },
    {
      "cell_type": "code",
      "metadata": {
        "id": "Ji1rsq60SK0L"
      },
      "source": [
        "scores=model.evaluate(X_test,Y_test)\n",
        "print(scores)"
      ],
      "execution_count": null,
      "outputs": []
    }
  ]
}